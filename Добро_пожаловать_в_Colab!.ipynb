{
  "cells": [
    {
      "cell_type": "markdown",
      "metadata": {
        "id": "view-in-github",
        "colab_type": "text"
      },
      "source": [
        "<a href=\"https://colab.research.google.com/github/AnufriyevAn/Practice1/blob/main/%D0%94%D0%BE%D0%B1%D1%80%D0%BE_%D0%BF%D0%BE%D0%B6%D0%B0%D0%BB%D0%BE%D0%B2%D0%B0%D1%82%D1%8C_%D0%B2_Colab!.ipynb\" target=\"_parent\"><img src=\"https://colab.research.google.com/assets/colab-badge.svg\" alt=\"Open In Colab\"/></a>"
      ]
    },
    {
      "cell_type": "markdown",
      "source": [
        "1. Описание предметной области\n",
        "\n",
        "Дифференциальные уравнения первого порядка широко применяются в математике, физике, экономике, биологии и других областях для моделирования динамических процессов. Так как аналитическое решение таких уравнений возможно не всегда, используются численные методы. Они позволяют получить приближённые решения с заданной точностью, построить графики и проанализировать поведение функций.\n",
        "\n",
        "В данной работе рассматриваются численные методы решения задачи Коши для обыкновенных дифференциальных уравнений:\n",
        "\n",
        "\n",
        "\n",
        "y' = f(x, y),    y(x0) = y0,    x ∈ [a, b]\n",
        "\n"
      ],
      "metadata": {
        "id": "phsvL1t0fMSx"
      }
    },
    {
      "cell_type": "markdown",
      "source": [
        "2. Перечень задач, решаемых в рамках практики\n",
        "\n",
        "В рамках лабораторной работы требуется:\n",
        "\n",
        "Реализовать метод Эйлера для численного решения задачи Коши.\n",
        "\n",
        "Реализовать метод Рунге–Кутта 4-го порядка и сравнить его точность с методом Эйлера.\n",
        "\n",
        "Провести исследование зависимости погрешности от шага сетки\n",
        "ℎ\n",
        "h.\n",
        "\n",
        "Визуализировать результаты вычислений в виде графиков.\n",
        "\n",
        "Сравнить численные результаты с точным решением (если оно известно).\n",
        "\n",
        "Сформулировать выводы о преимуществах и недостатках используемых методов."
      ],
      "metadata": {
        "id": "NPJFK-1lgo5T"
      }
    },
    {
      "cell_type": "markdown",
      "source": [
        "Задание №1\n",
        "\n",
        "Здесь я задаю исходные данные для численного решения задачи Коши:\n",
        "• Интервал интегрирования [a, b] и точку x0 (как правило, x0 = a).\n",
        "• Начальное условие y0 = y(x0).\n",
        "• Число шагов сетки n и шаг h = (b - a)/n.\n",
        "\n",
        "Функция f(x, y) — это правая часть ОДУ y' = f(x, y) из моего варианта.\n",
        "При наличии аналитического решения я задаю вспомогательную функцию y_true(x) —\n",
        "она нужна только для оценки ошибки и построения «точной» кривой.\n",
        "\n",
        "Далее формирую равномерную сетку по x (массива узлов x_k, k=0..n).\n",
        "Этот блок не решает уравнение, а лишь подготавливает параметры и функции,\n",
        "которые будут использоваться в численных методах ниже.\n"
      ],
      "metadata": {
        "id": "MsS-V78VjZXm"
      }
    },
    {
      "cell_type": "code",
      "source": [
        "import numpy as np\n",
        "import matplotlib.pyplot as plt\n",
        "\n",
        "# ---- Интервал интегрирования и начальные данные (подставьте из задания)\n",
        "a, b = 0.0, 1.0        # границы по x\n",
        "x0 = 0.0               # точка, где задано начальное условие\n",
        "y0 = 0.5               # начальное значение y(x0)\n",
        "n  = 10                # число шагов сетки (позже изменим для исследования погрешности)\n",
        "h  = (b - a) / n\n",
        "\n",
        "# ---- Правая часть ОДУ y' = f(x, y)\n",
        "def f(x, y):\n",
        "    # TODO: впишите свою правую часть из методички/варианта\n",
        "    # пример (можете временно оставить до подстановки своего варианта):\n",
        "    # y' = y - x**2 + 1\n",
        "    return y - x**2 + 1\n",
        "\n",
        "# ---- Точное решение (если известно для вашего варианта; иначе оставьте как есть)\n",
        "def y_true(x):\n",
        "    # пример для y' = y - x**2 + 1, y(0)=0.5:\n",
        "    # y(x) = (x+1)**2 - 0.5*np.exp(x)\n",
        "    return (x + 1)**2 - 0.5*np.exp(x)\n",
        "\n",
        "# ---- Сетка по x\n",
        "x = np.linspace(a, b, n + 1)  # n интервалов => n+1 узлов\n",
        "print(f\"h = {h:.5f}, количество узлов = {len(x)}\")\n"
      ],
      "metadata": {
        "colab": {
          "base_uri": "https://localhost:8080/"
        },
        "id": "NNwJIWylgrZK",
        "outputId": "4491ecff-bcc6-41ed-c133-c0f5a445b879"
      },
      "execution_count": null,
      "outputs": [
        {
          "output_type": "stream",
          "name": "stdout",
          "text": [
            "h = 0.10000, количество узлов = 11\n"
          ]
        }
      ]
    },
    {
      "cell_type": "markdown",
      "source": [
        "В этом блоке реализован явный метод Эйлера для задачи Коши:\n",
        "y_{k+1} = y_k + h * f(x_k, y_k), где h — шаг сетки.\n",
        "\n",
        "Шаги работы кода:\n",
        "1) Функция euler(...) строит массив узлов xs и по формуле Эйлера\n",
        "   последовательно вычисляет значения решения ys в узлах.\n",
        "2) Я вызываю euler(...) при текущих параметрах (a, b, y0, n) и получаю x_eu, y_eu.\n",
        "3) Если известно точное решение y_true(x), считаю максимальную погрешность:\n",
        "   max_k |y_true(x_k) - y_k|.\n",
        "4) Строю график: кривая метода Эйлера (точки/отрезки) и, при наличии,\n",
        "   гладкая кривая точного решения для визуального сравнения.\n",
        "\n",
        "Ожидаемый результат:\n",
        "• массив приближённых значений y_eu на сетке x_eu;\n",
        "• значение максимальной ошибки (если задано y_true);\n",
        "• график с наглядным сравнением численного и точного решений.\n"
      ],
      "metadata": {
        "id": "iHdD3r71jcH8"
      }
    },
    {
      "cell_type": "code",
      "source": [
        "# --- Метод Эйлера (явный)\n",
        "def euler(f, a, b, y0, n):\n",
        "    h = (b - a) / n\n",
        "    xs = np.linspace(a, b, n + 1)\n",
        "    ys = np.zeros(n + 1)\n",
        "    ys[0] = y0\n",
        "    for k in range(n):\n",
        "        ys[k+1] = ys[k] + h * f(xs[k], ys[k])\n",
        "    return xs, ys\n",
        "\n",
        "# Решение\n",
        "x_eu, y_eu = euler(f, a, b, y0, n)\n",
        "\n",
        "# --- Погрешность (если есть точное решение)\n",
        "if 'y_true' in globals():\n",
        "    err = np.max(np.abs(y_true(x_eu) - y_eu))\n",
        "    print(f\"Максимальная ошибка: {err:.6e}\")\n",
        "\n",
        "# --- График\n",
        "plt.figure(figsize=(6,4))\n",
        "plt.plot(x_eu, y_eu, 'o-', label=\"Метод Эйлера\")\n",
        "if 'y_true' in globals():\n",
        "    xx = np.linspace(a, b, 200)\n",
        "    plt.plot(xx, y_true(xx), 'r-', linewidth=2, label=\"Точное решение\")\n",
        "plt.xlabel(\"x\")\n",
        "plt.ylabel(\"y\")\n",
        "plt.title(\"Сравнение метода Эйлера с точным решением\")\n",
        "plt.legend()\n",
        "plt.grid(True)\n",
        "plt.show()\n"
      ],
      "metadata": {
        "colab": {
          "base_uri": "https://localhost:8080/",
          "height": 428
        },
        "id": "wAFFBDAgh955",
        "outputId": "334eb352-3259-4265-bddb-5424074bb228"
      },
      "execution_count": null,
      "outputs": [
        {
          "output_type": "stream",
          "name": "stdout",
          "text": [
            "Максимальная ошибка: 9.710456e-02\n"
          ]
        },
        {
          "output_type": "display_data",
          "data": {
            "text/plain": [
              "<Figure size 600x400 with 1 Axes>"
            ],
            "image/png": "[encoded data removed]"
          },
          "metadata": {}
        }
      ]
    },
    {
      "cell_type": "markdown",
      "source": [
        "Цель: показать, как зависит погрешность методов от шага h.\n",
        "Подход: решаю задачу при нескольких значениях n (и h=(b-a)/n), считаю максимальные ошибки\n",
        "для Эйлера и RK4 и строю таблицу и график в полулогарифмических осях.\n",
        "\n",
        "Ожидаемый вывод:\n",
        "• ошибка метода Эйлера убывает примерно пропорционально h (порядок 1),\n",
        "• ошибка RK4 убывает примерно как h^4 (порядок 4), поэтому при тех же n он намного точнее.\n"
      ],
      "metadata": {
        "id": "uA-GkC7IjqYL"
      }
    },
    {
      "cell_type": "code",
      "source": [
        "import numpy as np\n",
        "\n",
        "def euler(f, a, b, y0, n):\n",
        "    h = (b - a) / n\n",
        "    xs = np.linspace(a, b, n + 1)\n",
        "    ys = np.zeros(n + 1)\n",
        "    ys[0] = y0\n",
        "    for k in range(n):\n",
        "        ys[k+1] = ys[k] + h * f(xs[k], ys[k])\n",
        "    return xs, ys\n",
        "\n",
        "def rk4(f, a, b, y0, n):\n",
        "    h = (b - a) / n\n",
        "    xs = np.linspace(a, b, n + 1)\n",
        "    ys = np.zeros(n + 1)\n",
        "    ys[0] = y0\n",
        "    for k in range(n):\n",
        "        xk, yk = xs[k], ys[k]\n",
        "        k1 = f(xk, yk)\n",
        "        k2 = f(xk + h/2, yk + h*k1/2)\n",
        "        k3 = f(xk + h/2, yk + h*k2/2)\n",
        "        k4 = f(xk + h,   yk + h*k3)\n",
        "        ys[k+1] = yk + h*(k1 + 2*k2 + 2*k3 + k4)/6\n",
        "    return xs, ys\n",
        "\n",
        "print(\"Функции euler() и rk4() готовы.\")\n",
        "\n"
      ],
      "metadata": {
        "colab": {
          "base_uri": "https://localhost:8080/"
        },
        "id": "rtzLvDZRjs57",
        "outputId": "358c586b-9257-4bd8-caa4-97fd20b42eea"
      },
      "execution_count": null,
      "outputs": [
        {
          "output_type": "stream",
          "name": "stdout",
          "text": [
            "Функции euler() и rk4() готовы.\n"
          ]
        }
      ]
    },
    {
      "cell_type": "code",
      "source": [
        "import pandas as pd\n",
        "\n",
        "Ns = [10, 20, 40, 80, 160]\n",
        "rows = []\n",
        "\n",
        "for n_ in Ns:\n",
        "    xe, ye = euler(f, a, b, y0, n_)\n",
        "    xr, yr = rk4(f, a, b, y0, n_)\n",
        "    if 'y_true' in globals():\n",
        "        err_e = np.max(np.abs(y_true(xe) - ye))\n",
        "        err_r = np.max(np.abs(y_true(xr) - yr))\n",
        "    else:\n",
        "        err_e = np.nan\n",
        "        err_r = np.nan\n",
        "    rows.append({\"n\": n_, \"h\": (b - a) / n_, \"err_Euler\": err_e, \"err_RK4\": err_r})\n",
        "\n",
        "df = pd.DataFrame(rows)\n",
        "df\n"
      ],
      "metadata": {
        "colab": {
          "base_uri": "https://localhost:8080/",
          "height": 206
        },
        "id": "5VQOHki0kesp",
        "outputId": "2727f6e5-bb04-4090-adf2-253a3b4ed4f0"
      },
      "execution_count": null,
      "outputs": [
        {
          "output_type": "execute_result",
          "data": {
            "text/plain": [
              "     n        h  err_Euler       err_RK4\n",
              "0   10  0.10000   0.097105  2.361585e-06\n",
              "1   20  0.05000   0.050173  1.502865e-07\n",
              "2   40  0.02500   0.025518  9.476254e-09\n",
              "3   80  0.01250   0.012870  5.948602e-10\n",
              "4  160  0.00625   0.006463  3.725775e-11"
            ],
            "text/html": [
              "\n",
              "  <div id=\"df-9b6ec1f6-d951-4388-b1cc-a91255251268\" class=\"colab-df-container\">\n",
              "    <div>\n",
              "<style scoped>\n",
              "    .dataframe tbody tr th:only-of-type {\n",
              "        vertical-align: middle;\n",
              "    }\n",
              "\n",
              "    .dataframe tbody tr th {\n",
              "        vertical-align: top;\n",
              "    }\n",
              "\n",
              "    .dataframe thead th {\n",
              "        text-align: right;\n",
              "    }\n",
              "</style>\n",
              "<table border=\"1\" class=\"dataframe\">\n",
              "  <thead>\n",
              "    <tr style=\"text-align: right;\">\n",
              "      <th></th>\n",
              "      <th>n</th>\n",
              "      <th>h</th>\n",
              "      <th>err_Euler</th>\n",
              "      <th>err_RK4</th>\n",
              "    </tr>\n",
              "  </thead>\n",
              "  <tbody>\n",
              "    <tr>\n",
              "      <th>0</th>\n",
              "      <td>10</td>\n",
              "      <td>0.10000</td>\n",
              "      <td>0.097105</td>\n",
              "      <td>2.361585e-06</td>\n",
              "    </tr>\n",
              "    <tr>\n",
              "      <th>1</th>\n",
              "      <td>20</td>\n",
              "      <td>0.05000</td>\n",
              "      <td>0.050173</td>\n",
              "      <td>1.502865e-07</td>\n",
              "    </tr>\n",
              "    <tr>\n",
              "      <th>2</th>\n",
              "      <td>40</td>\n",
              "      <td>0.02500</td>\n",
              "      <td>0.025518</td>\n",
              "      <td>9.476254e-09</td>\n",
              "    </tr>\n",
              "    <tr>\n",
              "      <th>3</th>\n",
              "      <td>80</td>\n",
              "      <td>0.01250</td>\n",
              "      <td>0.012870</td>\n",
              "      <td>5.948602e-10</td>\n",
              "    </tr>\n",
              "    <tr>\n",
              "      <th>4</th>\n",
              "      <td>160</td>\n",
              "      <td>0.00625</td>\n",
              "      <td>0.006463</td>\n",
              "      <td>3.725775e-11</td>\n",
              "    </tr>\n",
              "  </tbody>\n",
              "</table>\n",
              "</div>\n",
              "    <div class=\"colab-df-buttons\">\n",
              "\n",
              "  <div class=\"colab-df-container\">\n",
              "    <button class=\"colab-df-convert\" onclick=\"convertToInteractive('df-9b6ec1f6-d951-4388-b1cc-a91255251268')\"\n",
              "            title=\"Convert this dataframe to an interactive table.\"\n",
              "            style=\"display:none;\">\n",
              "\n",
              "  <svg xmlns=\"http://www.w3.org/2000/svg\" height=\"24px\" viewBox=\"0 -960 960 960\">\n",
              "    <path d=\"M120-120v-720h720v720H120Zm60-500h600v-160H180v160Zm220 220h160v-160H400v160Zm0 220h160v-160H400v160ZM180-400h160v-160H180v160Zm440 0h160v-160H620v160ZM180-180h160v-160H180v160Zm440 0h160v-160H620v160Z\"/>\n",
              "  </svg>\n",
              "    </button>\n",
              "\n",
              "  <style>\n",
              "    .colab-df-container {\n",
              "      display:flex;\n",
              "      gap: 12px;\n",
              "    }\n",
              "\n",
              "    .colab-df-convert {\n",
              "      background-color: #E8F0FE;\n",
              "      border: none;\n",
              "      border-radius: 50%;\n",
              "      cursor: pointer;\n",
              "      display: none;\n",
              "      fill: #1967D2;\n",
              "      height: 32px;\n",
              "      padding: 0 0 0 0;\n",
              "      width: 32px;\n",
              "    }\n",
              "\n",
              "    .colab-df-convert:hover {\n",
              "      background-color: #E2EBFA;\n",
              "      box-shadow: 0px 1px 2px rgba(60, 64, 67, 0.3), 0px 1px 3px 1px rgba(60, 64, 67, 0.15);\n",
              "      fill: #174EA6;\n",
              "    }\n",
              "\n",
              "    .colab-df-buttons div {\n",
              "      margin-bottom: 4px;\n",
              "    }\n",
              "\n",
              "    [theme=dark] .colab-df-convert {\n",
              "      background-color: #3B4455;\n",
              "      fill: #D2E3FC;\n",
              "    }\n",
              "\n",
              "    [theme=dark] .colab-df-convert:hover {\n",
              "      background-color: #434B5C;\n",
              "      box-shadow: 0px 1px 3px 1px rgba(0, 0, 0, 0.15);\n",
              "      filter: drop-shadow(0px 1px 2px rgba(0, 0, 0, 0.3));\n",
              "      fill: #FFFFFF;\n",
              "    }\n",
              "  </style>\n",
              "\n",
              "    <script>\n",
              "      const buttonEl =\n",
              "        document.querySelector('#df-9b6ec1f6-d951-4388-b1cc-a91255251268 button.colab-df-convert');\n",
              "      buttonEl.style.display =\n",
              "        google.colab.kernel.accessAllowed ? 'block' : 'none';\n",
              "\n",
              "      async function convertToInteractive(key) {\n",
              "        const element = document.querySelector('#df-9b6ec1f6-d951-4388-b1cc-a91255251268');\n",
              "        const dataTable =\n",
              "          await google.colab.kernel.invokeFunction('convertToInteractive',\n",
              "                                                    [key], {});\n",
              "        if (!dataTable) return;\n",
              "\n",
              "        const docLinkHtml = 'Like what you see? Visit the ' +\n",
              "          '<a target=\"_blank\" href=https://colab.research.google.com/notebooks/data_table.ipynb>data table notebook</a>'\n",
              "          + ' to learn more about interactive tables.';\n",
              "        element.innerHTML = '';\n",
              "        dataTable['output_type'] = 'display_data';\n",
              "        await google.colab.output.renderOutput(dataTable, element);\n",
              "        const docLink = document.createElement('div');\n",
              "        docLink.innerHTML = docLinkHtml;\n",
              "        element.appendChild(docLink);\n",
              "      }\n",
              "    </script>\n",
              "  </div>\n",
              "\n",
              "\n",
              "    <div id=\"df-88543999-ff1c-4768-bb6d-f14ea15dd6e0\">\n",
              "      <button class=\"colab-df-quickchart\" onclick=\"quickchart('df-88543999-ff1c-4768-bb6d-f14ea15dd6e0')\"\n",
              "                title=\"Suggest charts\"\n",
              "                style=\"display:none;\">\n",
              "\n",
              "<svg xmlns=\"http://www.w3.org/2000/svg\" height=\"24px\"viewBox=\"0 0 24 24\"\n",
              "     width=\"24px\">\n",
              "    <g>\n",
              "        <path d=\"M19 3H5c-1.1 0-2 .9-2 2v14c0 1.1.9 2 2 2h14c1.1 0 2-.9 2-2V5c0-1.1-.9-2-2-2zM9 17H7v-7h2v7zm4 0h-2V7h2v10zm4 0h-2v-4h2v4z\"/>\n",
              "    </g>\n",
              "</svg>\n",
              "      </button>\n",
              "\n",
              "<style>\n",
              "  .colab-df-quickchart {\n",
              "      --bg-color: #E8F0FE;\n",
              "      --fill-color: #1967D2;\n",
              "      --hover-bg-color: #E2EBFA;\n",
              "      --hover-fill-color: #174EA6;\n",
              "      --disabled-fill-color: #AAA;\n",
              "      --disabled-bg-color: #DDD;\n",
              "  }\n",
              "\n",
              "  [theme=dark] .colab-df-quickchart {\n",
              "      --bg-color: #3B4455;\n",
              "      --fill-color: #D2E3FC;\n",
              "      --hover-bg-color: #434B5C;\n",
              "      --hover-fill-color: #FFFFFF;\n",
              "      --disabled-bg-color: #3B4455;\n",
              "      --disabled-fill-color: #666;\n",
              "  }\n",
              "\n",
              "  .colab-df-quickchart {\n",
              "    background-color: var(--bg-color);\n",
              "    border: none;\n",
              "    border-radius: 50%;\n",
              "    cursor: pointer;\n",
              "    display: none;\n",
              "    fill: var(--fill-color);\n",
              "    height: 32px;\n",
              "    padding: 0;\n",
              "    width: 32px;\n",
              "  }\n",
              "\n",
              "  .colab-df-quickchart:hover {\n",
              "    background-color: var(--hover-bg-color);\n",
              "    box-shadow: 0 1px 2px rgba(60, 64, 67, 0.3), 0 1px 3px 1px rgba(60, 64, 67, 0.15);\n",
              "    fill: var(--button-hover-fill-color);\n",
              "  }\n",
              "\n",
              "  .colab-df-quickchart-complete:disabled,\n",
              "  .colab-df-quickchart-complete:disabled:hover {\n",
              "    background-color: var(--disabled-bg-color);\n",
              "    fill: var(--disabled-fill-color);\n",
              "    box-shadow: none;\n",
              "  }\n",
              "\n",
              "  .colab-df-spinner {\n",
              "    border: 2px solid var(--fill-color);\n",
              "    border-color: transparent;\n",
              "    border-bottom-color: var(--fill-color);\n",
              "    animation:\n",
              "      spin 1s steps(1) infinite;\n",
              "  }\n",
              "\n",
              "  @keyframes spin {\n",
              "    0% {\n",
              "      border-color: transparent;\n",
              "      border-bottom-color: var(--fill-color);\n",
              "      border-left-color: var(--fill-color);\n",
              "    }\n",
              "    20% {\n",
              "      border-color: transparent;\n",
              "      border-left-color: var(--fill-color);\n",
              "      border-top-color: var(--fill-color);\n",
              "    }\n",
              "    30% {\n",
              "      border-color: transparent;\n",
              "      border-left-color: var(--fill-color);\n",
              "      border-top-color: var(--fill-color);\n",
              "      border-right-color: var(--fill-color);\n",
              "    }\n",
              "    40% {\n",
              "      border-color: transparent;\n",
              "      border-right-color: var(--fill-color);\n",
              "      border-top-color: var(--fill-color);\n",
              "    }\n",
              "    60% {\n",
              "      border-color: transparent;\n",
              "      border-right-color: var(--fill-color);\n",
              "    }\n",
              "    80% {\n",
              "      border-color: transparent;\n",
              "      border-right-color: var(--fill-color);\n",
              "      border-bottom-color: var(--fill-color);\n",
              "    }\n",
              "    90% {\n",
              "      border-color: transparent;\n",
              "      border-bottom-color: var(--fill-color);\n",
              "    }\n",
              "  }\n",
              "</style>\n",
              "\n",
              "      <script>\n",
              "        async function quickchart(key) {\n",
              "          const quickchartButtonEl =\n",
              "            document.querySelector('#' + key + ' button');\n",
              "          quickchartButtonEl.disabled = true;  // To prevent multiple clicks.\n",
              "          quickchartButtonEl.classList.add('colab-df-spinner');\n",
              "          try {\n",
              "            const charts = await google.colab.kernel.invokeFunction(\n",
              "                'suggestCharts', [key], {});\n",
              "          } catch (error) {\n",
              "            console.error('Error during call to suggestCharts:', error);\n",
              "          }\n",
              "          quickchartButtonEl.classList.remove('colab-df-spinner');\n",
              "          quickchartButtonEl.classList.add('colab-df-quickchart-complete');\n",
              "        }\n",
              "        (() => {\n",
              "          let quickchartButtonEl =\n",
              "            document.querySelector('#df-88543999-ff1c-4768-bb6d-f14ea15dd6e0 button');\n",
              "          quickchartButtonEl.style.display =\n",
              "            google.colab.kernel.accessAllowed ? 'block' : 'none';\n",
              "        })();\n",
              "      </script>\n",
              "    </div>\n",
              "    </div>\n",
              "  </div>\n"
            ],
            "application/vnd.google.colaboratory.intrinsic+json": {
              "type": "dataframe",
              "variable_name": "df",
              "summary": "{\n  \"name\": \"df\",\n  \"rows\": 5,\n  \"fields\": [\n    {\n      \"column\": \"n\",\n      \"properties\": {\n        \"dtype\": \"number\",\n        \"std\": 60,\n        \"min\": 10,\n        \"max\": 160,\n        \"num_unique_values\": 5,\n        \"samples\": [\n          20,\n          160,\n          40\n        ],\n        \"semantic_type\": \"\",\n        \"description\": \"\"\n      }\n    },\n    {\n      \"column\": \"h\",\n      \"properties\": {\n        \"dtype\": \"number\",\n        \"std\": 0.03811987670494227,\n        \"min\": 0.00625,\n        \"max\": 0.1,\n        \"num_unique_values\": 5,\n        \"samples\": [\n          0.05,\n          0.00625,\n          0.025\n        ],\n        \"semantic_type\": \"\",\n        \"description\": \"\"\n      }\n    },\n    {\n      \"column\": \"err_Euler\",\n      \"properties\": {\n        \"dtype\": \"number\",\n        \"std\": 0.036818821925782015,\n        \"min\": 0.00646334627629086,\n        \"max\": 0.09710456183047755,\n        \"num_unique_values\": 5,\n        \"samples\": [\n          0.05017282359990949,\n          0.00646334627629086,\n          0.02551760092521338\n        ],\n        \"semantic_type\": \"\",\n        \"description\": \"\"\n      }\n    },\n    {\n      \"column\": \"err_RK4\",\n      \"properties\": {\n        \"dtype\": \"number\",\n        \"std\": 1.0401544337178824e-06,\n        \"min\": 3.7257752438790703e-11,\n        \"max\": 2.3615854245484513e-06,\n        \"num_unique_values\": 5,\n        \"samples\": [\n          1.5028649524850834e-07,\n          3.7257752438790703e-11,\n          9.476254447804422e-09\n        ],\n        \"semantic_type\": \"\",\n        \"description\": \"\"\n      }\n    }\n  ]\n}"
            }
          },
          "metadata": {},
          "execution_count": 6
        }
      ]
    },
    {
      "cell_type": "code",
      "source": [
        "plt.figure(figsize=(6,4))\n",
        "plt.semilogy(df[\"h\"], df[\"err_Euler\"], 'o--', label='Эйлер')\n",
        "plt.semilogy(df[\"h\"], df[\"err_RK4\"],  's-',  label='RK4')\n",
        "plt.gca().invert_xaxis()\n",
        "plt.grid(True, which='both')\n",
        "plt.xlabel('h'); plt.ylabel('max|ошибка|')\n",
        "plt.title('Зависимость ошибки от шага h')\n",
        "plt.legend(); plt.show()\n"
      ],
      "metadata": {
        "colab": {
          "base_uri": "https://localhost:8080/",
          "height": 410
        },
        "id": "ewWgAOJLkgS6",
        "outputId": "d9869aae-202e-4c9f-fb1f-28e0f0b020de"
      },
      "execution_count": null,
      "outputs": [
        {
          "output_type": "display_data",
          "data": {
            "text/plain": [
              "<Figure size 600x400 with 1 Axes>"
            ],
            "image/png": "[encoded data removed]"
          },
          "metadata": {}
        }
      ]
    },
    {
      "cell_type": "markdown",
      "source": [
        "Цель: количественно подтвердить порядок сходимости методов.\n",
        "Метод: считаю наклон прямой на графике log(err) от log(h).\n",
        "Глобальная оценка p берётся по линейной регрессии, а также считаю «парные» p между соседними точками:\n",
        "p_i = log(err_i / err_{i+1}) / log(h_i / h_{i+1}).\n",
        "\n",
        "Ожидаемо:\n",
        "• для Эйлера p ≈ 1,\n",
        "• для RK4 p ≈ 4.\n"
      ],
      "metadata": {
        "id": "EX7t88UNk3tv"
      }
    },
    {
      "cell_type": "code",
      "source": [
        "import numpy as np\n",
        "import pandas as pd\n",
        "\n",
        "# Берём только строки без NaN и с положительными ошибками\n",
        "mask_e = (df[\"err_Euler\"] > 0) & np.isfinite(df[\"err_Euler\"])\n",
        "mask_r = (df[\"err_RK4\"]  > 0) & np.isfinite(df[\"err_RK4\"])\n",
        "\n",
        "def global_order(h, err):\n",
        "    x = np.log(h)\n",
        "    y = np.log(err)\n",
        "    k, b = np.polyfit(x, y, 1)  # y ≈ k*x + b\n",
        "    return -k  # порядок ≈ -наклон\n",
        "\n",
        "def pairwise_orders(h, err):\n",
        "    hs = np.array(h)\n",
        "    es = np.array(err)\n",
        "    ps = []\n",
        "    for i in range(len(hs)-1):\n",
        "        p = np.log(es[i]/es[i+1]) / np.log(hs[i]/hs[i+1])\n",
        "        ps.append(p)\n",
        "    return ps\n",
        "\n",
        "# Глобальные оценки\n",
        "pE = global_order(df.loc[mask_e, \"h\"], df.loc[mask_e, \"err_Euler\"])\n",
        "pR = global_order(df.loc[mask_r, \"h\"], df.loc[mask_r, \"err_RK4\"])\n",
        "print(f\"Глобальная оценка порядка:  Эйлер ≈ {pE:.3f},  RK4 ≈ {pR:.3f}\")\n",
        "\n",
        "# Парные оценки\n",
        "pE_pairs = pairwise_orders(df.loc[mask_e, \"h\"], df.loc[mask_e, \"err_Euler\"])\n",
        "pR_pairs = pairwise_orders(df.loc[mask_r, \"h\"], df.loc[mask_r, \"err_RK4\"])\n",
        "\n",
        "pd.DataFrame({\n",
        "    \"пара\": [f\"{i}->{i+1}\" for i in range(len(pE_pairs))],\n",
        "    \"p_Euler\": [f\"{v:.3f}\" for v in pE_pairs],\n",
        "    \"p_RK4\":   [f\"{v:.3f}\" for v in pR_pairs]\n",
        "})\n"
      ],
      "metadata": {
        "colab": {
          "base_uri": "https://localhost:8080/",
          "height": 193
        },
        "id": "1yp_UbGck5wv",
        "outputId": "5f8e726f-1ca5-48b4-da64-96ac28d1a2cd"
      },
      "execution_count": null,
      "outputs": [
        {
          "output_type": "stream",
          "name": "stdout",
          "text": [
            "Глобальная оценка порядка:  Эйлер ≈ -0.978,  RK4 ≈ -3.988\n"
          ]
        },
        {
          "output_type": "execute_result",
          "data": {
            "text/plain": [
              "   пара p_Euler  p_RK4\n",
              "0  0->1   0.953  3.974\n",
              "1  1->2   0.975  3.987\n",
              "2  2->3   0.987  3.994\n",
              "3  3->4   0.994  3.997"
            ],
            "text/html": [
              "\n",
              "  <div id=\"df-f5139ee3-6e53-4fe3-a4e4-69f0c011bae8\" class=\"colab-df-container\">\n",
              "    <div>\n",
              "<style scoped>\n",
              "    .dataframe tbody tr th:only-of-type {\n",
              "        vertical-align: middle;\n",
              "    }\n",
              "\n",
              "    .dataframe tbody tr th {\n",
              "        vertical-align: top;\n",
              "    }\n",
              "\n",
              "    .dataframe thead th {\n",
              "        text-align: right;\n",
              "    }\n",
              "</style>\n",
              "<table border=\"1\" class=\"dataframe\">\n",
              "  <thead>\n",
              "    <tr style=\"text-align: right;\">\n",
              "      <th></th>\n",
              "      <th>пара</th>\n",
              "      <th>p_Euler</th>\n",
              "      <th>p_RK4</th>\n",
              "    </tr>\n",
              "  </thead>\n",
              "  <tbody>\n",
              "    <tr>\n",
              "      <th>0</th>\n",
              "      <td>0-&gt;1</td>\n",
              "      <td>0.953</td>\n",
              "      <td>3.974</td>\n",
              "    </tr>\n",
              "    <tr>\n",
              "      <th>1</th>\n",
              "      <td>1-&gt;2</td>\n",
              "      <td>0.975</td>\n",
              "      <td>3.987</td>\n",
              "    </tr>\n",
              "    <tr>\n",
              "      <th>2</th>\n",
              "      <td>2-&gt;3</td>\n",
              "      <td>0.987</td>\n",
              "      <td>3.994</td>\n",
              "    </tr>\n",
              "    <tr>\n",
              "      <th>3</th>\n",
              "      <td>3-&gt;4</td>\n",
              "      <td>0.994</td>\n",
              "      <td>3.997</td>\n",
              "    </tr>\n",
              "  </tbody>\n",
              "</table>\n",
              "</div>\n",
              "    <div class=\"colab-df-buttons\">\n",
              "\n",
              "  <div class=\"colab-df-container\">\n",
              "    <button class=\"colab-df-convert\" onclick=\"convertToInteractive('df-f5139ee3-6e53-4fe3-a4e4-69f0c011bae8')\"\n",
              "            title=\"Convert this dataframe to an interactive table.\"\n",
              "            style=\"display:none;\">\n",
              "\n",
              "  <svg xmlns=\"http://www.w3.org/2000/svg\" height=\"24px\" viewBox=\"0 -960 960 960\">\n",
              "    <path d=\"M120-120v-720h720v720H120Zm60-500h600v-160H180v160Zm220 220h160v-160H400v160Zm0 220h160v-160H400v160ZM180-400h160v-160H180v160Zm440 0h160v-160H620v160ZM180-180h160v-160H180v160Zm440 0h160v-160H620v160Z\"/>\n",
              "  </svg>\n",
              "    </button>\n",
              "\n",
              "  <style>\n",
              "    .colab-df-container {\n",
              "      display:flex;\n",
              "      gap: 12px;\n",
              "    }\n",
              "\n",
              "    .colab-df-convert {\n",
              "      background-color: #E8F0FE;\n",
              "      border: none;\n",
              "      border-radius: 50%;\n",
              "      cursor: pointer;\n",
              "      display: none;\n",
              "      fill: #1967D2;\n",
              "      height: 32px;\n",
              "      padding: 0 0 0 0;\n",
              "      width: 32px;\n",
              "    }\n",
              "\n",
              "    .colab-df-convert:hover {\n",
              "      background-color: #E2EBFA;\n",
              "      box-shadow: 0px 1px 2px rgba(60, 64, 67, 0.3), 0px 1px 3px 1px rgba(60, 64, 67, 0.15);\n",
              "      fill: #174EA6;\n",
              "    }\n",
              "\n",
              "    .colab-df-buttons div {\n",
              "      margin-bottom: 4px;\n",
              "    }\n",
              "\n",
              "    [theme=dark] .colab-df-convert {\n",
              "      background-color: #3B4455;\n",
              "      fill: #D2E3FC;\n",
              "    }\n",
              "\n",
              "    [theme=dark] .colab-df-convert:hover {\n",
              "      background-color: #434B5C;\n",
              "      box-shadow: 0px 1px 3px 1px rgba(0, 0, 0, 0.15);\n",
              "      filter: drop-shadow(0px 1px 2px rgba(0, 0, 0, 0.3));\n",
              "      fill: #FFFFFF;\n",
              "    }\n",
              "  </style>\n",
              "\n",
              "    <script>\n",
              "      const buttonEl =\n",
              "        document.querySelector('#df-f5139ee3-6e53-4fe3-a4e4-69f0c011bae8 button.colab-df-convert');\n",
              "      buttonEl.style.display =\n",
              "        google.colab.kernel.accessAllowed ? 'block' : 'none';\n",
              "\n",
              "      async function convertToInteractive(key) {\n",
              "        const element = document.querySelector('#df-f5139ee3-6e53-4fe3-a4e4-69f0c011bae8');\n",
              "        const dataTable =\n",
              "          await google.colab.kernel.invokeFunction('convertToInteractive',\n",
              "                                                    [key], {});\n",
              "        if (!dataTable) return;\n",
              "\n",
              "        const docLinkHtml = 'Like what you see? Visit the ' +\n",
              "          '<a target=\"_blank\" href=https://colab.research.google.com/notebooks/data_table.ipynb>data table notebook</a>'\n",
              "          + ' to learn more about interactive tables.';\n",
              "        element.innerHTML = '';\n",
              "        dataTable['output_type'] = 'display_data';\n",
              "        await google.colab.output.renderOutput(dataTable, element);\n",
              "        const docLink = document.createElement('div');\n",
              "        docLink.innerHTML = docLinkHtml;\n",
              "        element.appendChild(docLink);\n",
              "      }\n",
              "    </script>\n",
              "  </div>\n",
              "\n",
              "\n",
              "    <div id=\"df-dd3c1f77-5743-466f-8c92-413e196b0827\">\n",
              "      <button class=\"colab-df-quickchart\" onclick=\"quickchart('df-dd3c1f77-5743-466f-8c92-413e196b0827')\"\n",
              "                title=\"Suggest charts\"\n",
              "                style=\"display:none;\">\n",
              "\n",
              "<svg xmlns=\"http://www.w3.org/2000/svg\" height=\"24px\"viewBox=\"0 0 24 24\"\n",
              "     width=\"24px\">\n",
              "    <g>\n",
              "        <path d=\"M19 3H5c-1.1 0-2 .9-2 2v14c0 1.1.9 2 2 2h14c1.1 0 2-.9 2-2V5c0-1.1-.9-2-2-2zM9 17H7v-7h2v7zm4 0h-2V7h2v10zm4 0h-2v-4h2v4z\"/>\n",
              "    </g>\n",
              "</svg>\n",
              "      </button>\n",
              "\n",
              "<style>\n",
              "  .colab-df-quickchart {\n",
              "      --bg-color: #E8F0FE;\n",
              "      --fill-color: #1967D2;\n",
              "      --hover-bg-color: #E2EBFA;\n",
              "      --hover-fill-color: #174EA6;\n",
              "      --disabled-fill-color: #AAA;\n",
              "      --disabled-bg-color: #DDD;\n",
              "  }\n",
              "\n",
              "  [theme=dark] .colab-df-quickchart {\n",
              "      --bg-color: #3B4455;\n",
              "      --fill-color: #D2E3FC;\n",
              "      --hover-bg-color: #434B5C;\n",
              "      --hover-fill-color: #FFFFFF;\n",
              "      --disabled-bg-color: #3B4455;\n",
              "      --disabled-fill-color: #666;\n",
              "  }\n",
              "\n",
              "  .colab-df-quickchart {\n",
              "    background-color: var(--bg-color);\n",
              "    border: none;\n",
              "    border-radius: 50%;\n",
              "    cursor: pointer;\n",
              "    display: none;\n",
              "    fill: var(--fill-color);\n",
              "    height: 32px;\n",
              "    padding: 0;\n",
              "    width: 32px;\n",
              "  }\n",
              "\n",
              "  .colab-df-quickchart:hover {\n",
              "    background-color: var(--hover-bg-color);\n",
              "    box-shadow: 0 1px 2px rgba(60, 64, 67, 0.3), 0 1px 3px 1px rgba(60, 64, 67, 0.15);\n",
              "    fill: var(--button-hover-fill-color);\n",
              "  }\n",
              "\n",
              "  .colab-df-quickchart-complete:disabled,\n",
              "  .colab-df-quickchart-complete:disabled:hover {\n",
              "    background-color: var(--disabled-bg-color);\n",
              "    fill: var(--disabled-fill-color);\n",
              "    box-shadow: none;\n",
              "  }\n",
              "\n",
              "  .colab-df-spinner {\n",
              "    border: 2px solid var(--fill-color);\n",
              "    border-color: transparent;\n",
              "    border-bottom-color: var(--fill-color);\n",
              "    animation:\n",
              "      spin 1s steps(1) infinite;\n",
              "  }\n",
              "\n",
              "  @keyframes spin {\n",
              "    0% {\n",
              "      border-color: transparent;\n",
              "      border-bottom-color: var(--fill-color);\n",
              "      border-left-color: var(--fill-color);\n",
              "    }\n",
              "    20% {\n",
              "      border-color: transparent;\n",
              "      border-left-color: var(--fill-color);\n",
              "      border-top-color: var(--fill-color);\n",
              "    }\n",
              "    30% {\n",
              "      border-color: transparent;\n",
              "      border-left-color: var(--fill-color);\n",
              "      border-top-color: var(--fill-color);\n",
              "      border-right-color: var(--fill-color);\n",
              "    }\n",
              "    40% {\n",
              "      border-color: transparent;\n",
              "      border-right-color: var(--fill-color);\n",
              "      border-top-color: var(--fill-color);\n",
              "    }\n",
              "    60% {\n",
              "      border-color: transparent;\n",
              "      border-right-color: var(--fill-color);\n",
              "    }\n",
              "    80% {\n",
              "      border-color: transparent;\n",
              "      border-right-color: var(--fill-color);\n",
              "      border-bottom-color: var(--fill-color);\n",
              "    }\n",
              "    90% {\n",
              "      border-color: transparent;\n",
              "      border-bottom-color: var(--fill-color);\n",
              "    }\n",
              "  }\n",
              "</style>\n",
              "\n",
              "      <script>\n",
              "        async function quickchart(key) {\n",
              "          const quickchartButtonEl =\n",
              "            document.querySelector('#' + key + ' button');\n",
              "          quickchartButtonEl.disabled = true;  // To prevent multiple clicks.\n",
              "          quickchartButtonEl.classList.add('colab-df-spinner');\n",
              "          try {\n",
              "            const charts = await google.colab.kernel.invokeFunction(\n",
              "                'suggestCharts', [key], {});\n",
              "          } catch (error) {\n",
              "            console.error('Error during call to suggestCharts:', error);\n",
              "          }\n",
              "          quickchartButtonEl.classList.remove('colab-df-spinner');\n",
              "          quickchartButtonEl.classList.add('colab-df-quickchart-complete');\n",
              "        }\n",
              "        (() => {\n",
              "          let quickchartButtonEl =\n",
              "            document.querySelector('#df-dd3c1f77-5743-466f-8c92-413e196b0827 button');\n",
              "          quickchartButtonEl.style.display =\n",
              "            google.colab.kernel.accessAllowed ? 'block' : 'none';\n",
              "        })();\n",
              "      </script>\n",
              "    </div>\n",
              "    </div>\n",
              "  </div>\n"
            ],
            "application/vnd.google.colaboratory.intrinsic+json": {
              "type": "dataframe",
              "summary": "{\n  \"name\": \"})\",\n  \"rows\": 4,\n  \"fields\": [\n    {\n      \"column\": \"\\u043f\\u0430\\u0440\\u0430\",\n      \"properties\": {\n        \"dtype\": \"string\",\n        \"num_unique_values\": 4,\n        \"samples\": [\n          \"1->2\",\n          \"3->4\",\n          \"0->1\"\n        ],\n        \"semantic_type\": \"\",\n        \"description\": \"\"\n      }\n    },\n    {\n      \"column\": \"p_Euler\",\n      \"properties\": {\n        \"dtype\": \"string\",\n        \"num_unique_values\": 4,\n        \"samples\": [\n          \"0.975\",\n          \"0.994\",\n          \"0.953\"\n        ],\n        \"semantic_type\": \"\",\n        \"description\": \"\"\n      }\n    },\n    {\n      \"column\": \"p_RK4\",\n      \"properties\": {\n        \"dtype\": \"string\",\n        \"num_unique_values\": 4,\n        \"samples\": [\n          \"3.987\",\n          \"3.997\",\n          \"3.974\"\n        ],\n        \"semantic_type\": \"\",\n        \"description\": \"\"\n      }\n    }\n  ]\n}"
            }
          },
          "metadata": {},
          "execution_count": 8
        }
      ]
    },
    {
      "cell_type": "markdown",
      "source": [
        "Вывод по заданию 1.\n",
        "\n",
        "1) Реализованы и протестированы два численных метода решения задачи Коши:\n",
        "   — явный метод Эйлера (порядок точности ~ O(h)),\n",
        "   — метод Рунге–Кутта 4-го порядка (порядок ~ O(h^4)).\n",
        "\n",
        "2) По таблице и графику зависимости ошибки от шага h видно, что при уменьшении шага:\n",
        "   — ошибка Эйлера убывает примерно линейно по h (эмпирический порядок ≈ 1),\n",
        "   — ошибка RK4 убывает значительно быстрее, близко к h^4 (эмпирический порядок ≈ 4).\n",
        "\n",
        "3) При одинаковом числе узлов n метод RK4 даёт существенно меньшую погрешность,\n",
        "   но выполняет больше вычислений на шаг (4 вызова f вместо 1).\n",
        "\n",
        "4) Практическая рекомендация:\n",
        "   — для грубых оценок/быстрых черновых расчётов можно использовать Эйлера,\n",
        "   — для точных результатов при разумных n предпочтителен RK4.\n",
        "\n",
        "Итог: численные эксперименты подтвердили теоретические порядки сходимости и\n",
        "показали преимущество метода Рунге–Кутта 4-го порядка по точности.\n"
      ],
      "metadata": {
        "id": "A2-PSlV1lFn_"
      }
    },
    {
      "cell_type": "markdown",
      "source": [
        "Зданиае №2\n",
        "\n",
        "Цель шага: подготовить компактные бинарные образы цифр для обучения сети Хопфилда\n",
        "и сгенерировать их зашумлённые версии для тестирования восстановления.\n",
        "\n",
        "Подход:\n",
        "1) Беру готовый датасет цифр `sklearn.datasets.load_digits` (из коробки, интернет не нужен).\n",
        "   Каждый образ — это матрица 8×8 с яркостями 0..16.\n",
        "2) Выбираю по одному «эталонному» образцу для нескольких цифр (например, 0, 1, 5).\n",
        "3) Бинаризую пиксели в значения {-1, +1}: +1 — “штрих”, -1 — “фон”.\n",
        "4) Генерирую зашумлённые копии, случайно инвертируя часть пикселей\n",
        "   (вероятность инверсии p_noise).\n",
        "Результат: матрица обучающих образов (patterns) и набор зашумлённых тестовых векторов.\n"
      ],
      "metadata": {
        "id": "ANTH4wttlqOP"
      }
    },
    {
      "cell_type": "code",
      "source": [
        "import numpy as np\n",
        "from sklearn.datasets import load_digits\n",
        "import matplotlib.pyplot as plt\n",
        "\n",
        "# 1) Загружаем маленькие 8x8 цифры\n",
        "digits = load_digits()\n",
        "\n",
        "# 2) Выберем классы и по одному образцу каждого класса\n",
        "classes = [0, 1, 5]        # можно расширить, но для демонстрации хватит 2–4\n",
        "ref_idx = []               # индексы эталонных образов\n",
        "for c in classes:\n",
        "    idx = np.where(digits.target == c)[0][0]   # первый попавшийся образ этой цифры\n",
        "    ref_idx.append(idx)\n",
        "\n",
        "X_ref = digits.images[ref_idx]  # shape: (m, 8, 8), m = len(classes)\n",
        "\n",
        "# 3) Бинаризация к {-1, +1}\n",
        "# Порог возьмём по среднему 8x8, что бы отделить штрихи от фона\n",
        "def binarize(img):\n",
        "    thr = img.mean()\n",
        "    bin_img = np.where(img >= thr, 1, -1)\n",
        "    return bin_img\n",
        "\n",
        "X_bin = np.array([binarize(img) for img in X_ref])     # (m, 8, 8)\n",
        "\n",
        "# Векторизуем образы в столбцы длины N=64\n",
        "patterns = X_bin.reshape(len(classes), -1).T           # shape: (64, m)\n",
        "\n",
        "# 4) Генерируем зашумлённые версии (инвертируем пиксели с вероятностью p_noise)\n",
        "rng = np.random.default_rng(42)\n",
        "p_noise = 0.25\n",
        "\n",
        "def add_noise(vec, p=0.25, rng=None):\n",
        "    rng = np.random.default_rng() if rng is None else rng\n",
        "    flip = rng.random(vec.shape) < p\n",
        "    noisy = vec.copy()\n",
        "    noisy[flip] *= -1\n",
        "    return noisy\n",
        "\n",
        "noisy_vectors = np.stack([add_noise(patterns[:, i], p_noise, rng) for i in range(patterns.shape[1])], axis=1)\n",
        "\n",
        "print(\"Размерность образа (N):\", patterns.shape[0])\n",
        "print(\"Количество обучающих образов (m):\", patterns.shape[1])\n",
        "\n",
        "# Визуализация: эталоны и зашумлённые\n",
        "fig, axes = plt.subplots(2, len(classes), figsize=(1.8*len(classes), 3.6))\n",
        "for j, c in enumerate(classes):\n",
        "    axes[0, j].imshow(X_bin[j], cmap='gray_r')\n",
        "    axes[0, j].set_title(f\"Эталон {c}\")\n",
        "    axes[0, j].axis('off')\n",
        "    axes[1, j].imshow(noisy_vectors[:, j].reshape(8, 8), cmap='gray_r')\n",
        "    axes[1, j].set_title(\"Зашумлённый\")\n",
        "    axes[1, j].axis('off')\n",
        "plt.suptitle(\"Подготовка данных: бинарные образы и шум\")\n",
        "plt.tight_layout()\n",
        "plt.show()\n"
      ],
      "metadata": {
        "colab": {
          "base_uri": "https://localhost:8080/",
          "height": 411
        },
        "id": "7SJ7W-Y6lsg7",
        "outputId": "87e1a7b2-5818-41b5-f280-9061720d4e1e"
      },
      "execution_count": null,
      "outputs": [
        {
          "output_type": "stream",
          "name": "stdout",
          "text": [
            "Размерность образа (N): 64\n",
            "Количество обучающих образов (m): 3\n"
          ]
        },
        {
          "output_type": "display_data",
          "data": {
            "text/plain": [
              "<Figure size 540x360 with 6 Axes>"
            ],
            "image/png": "[encoded data removed]"
          },
          "metadata": {}
        }
      ]
    },
    {
      "cell_type": "markdown",
      "source": [
        "Цель шага: обучить сеть Хопфилда на выбранных эталонных образах.\n",
        "Метод: правило Хебба для бинарных векторов в {-1, +1}:\n",
        "W = Σ_{p=1..m} x_p x_p^T, где x_p — столбец-образ (N×1).\n",
        "Условие: зануляю диагональ (w_ii = 0), чтобы нейрон не «подталкивал» сам себя.\n",
        "Свойства: W симметрична; эталоны становятся стационарными точками динамики сети.\n",
        "\n",
        "Результат шага: матрица весов W (N×N), готовая к восстановлению образов.\n"
      ],
      "metadata": {
        "id": "2e_Pz9ctmQO7"
      }
    },
    {
      "cell_type": "code",
      "source": [
        "# patterns — из прошлого шага: shape (N, m), элементы ∈ {-1, +1}\n",
        "N, m = patterns.shape\n",
        "\n",
        "# --- Обучение по правилу Хебба\n",
        "W = np.zeros((N, N), dtype=float)\n",
        "for j in range(m):\n",
        "    x = patterns[:, j].reshape(N, 1)   # столбец (N×1)\n",
        "    W += x @ x.T                       # сумма матриц ранга-1\n",
        "\n",
        "# Нормировка не обязательна, но часто делят на N\n",
        "W = W / N\n",
        "\n",
        "# Зануляем диагональ\n",
        "np.fill_diagonal(W, 0.0)\n",
        "\n",
        "# Проверка свойств\n",
        "print(\"Форма W:\", W.shape,\n",
        "      \"| симметрична:\", np.allclose(W, W.T),\n",
        "      \"| diag≈0:\", np.allclose(np.diag(W), 0.0))\n"
      ],
      "metadata": {
        "colab": {
          "base_uri": "https://localhost:8080/"
        },
        "id": "4Pn79micmRhW",
        "outputId": "a7c6df82-a527-4f04-ac7a-7cb525819bff"
      },
      "execution_count": null,
      "outputs": [
        {
          "output_type": "stream",
          "name": "stdout",
          "text": [
            "Форма W: (64, 64) | симметрична: True | diag≈0: True\n"
          ]
        }
      ]
    },
    {
      "cell_type": "markdown",
      "source": [
        "Цель шага: проверить работу сети Хопфилда на зашумлённых образах.\n",
        "Метод:\n",
        "1) В качестве начального состояния берём зашумлённый вектор x(0).\n",
        "2) На каждой итерации пересчитываем значения нейронов:\n",
        "   x_i ← sign(Σ_j W_ij x_j).\n",
        "   (использую sign, где sign(0)=+1).\n",
        "3) Возможны два режима обновления: синхронный (все сразу) и асинхронный (по одному случайному нейрону).\n",
        "Здесь реализую синхронное обновление.\n",
        "\n",
        "Ожидаемый результат: зашумлённый образ постепенно «схлопывается» в один из эталонов.\n"
      ],
      "metadata": {
        "id": "-rE5faPUmlJV"
      }
    },
    {
      "cell_type": "code",
      "source": [
        "def sign_vec(v):\n",
        "    return np.where(v >= 0, 1, -1)\n",
        "\n",
        "def hopfield_recall(W, x0, steps=5):\n",
        "    \"\"\"Синхронное обновление вектора состояния\"\"\"\n",
        "    x = x0.copy()\n",
        "    history = [x.copy()]\n",
        "    for _ in range(steps):\n",
        "        x = sign_vec(W @ x)\n",
        "        history.append(x.copy())\n",
        "    return history\n",
        "\n",
        "# Тестируем восстановление для одного зашумлённого образа\n",
        "test_idx = 0   # берем первый образ (например, \"0\")\n",
        "x0 = noisy_vectors[:, test_idx]\n",
        "history = hopfield_recall(W, x0, steps=5)\n",
        "\n",
        "# Визуализация динамики\n",
        "fig, axes = plt.subplots(1, len(history), figsize=(2*len(history), 2))\n",
        "for t, vec in enumerate(history):\n",
        "    axes[t].imshow(vec.reshape(8,8), cmap=\"gray_r\")\n",
        "    axes[t].set_title(f\"t={t}\")\n",
        "    axes[t].axis(\"off\")\n",
        "plt.suptitle(f\"Восстановление цифры {classes[test_idx]} из зашумлённого состояния\")\n",
        "plt.show()\n"
      ],
      "metadata": {
        "colab": {
          "base_uri": "https://localhost:8080/",
          "height": 200
        },
        "id": "pmNIhqj8mmQP",
        "outputId": "c28716f9-3588-4cb8-cd98-eef12623b58b"
      },
      "execution_count": null,
      "outputs": [
        {
          "output_type": "display_data",
          "data": {
            "text/plain": [
              "<Figure size 1200x200 with 6 Axes>"
            ],
            "image/png": "[encoded data removed]"
          },
          "metadata": {}
        }
      ]
    },
    {
      "cell_type": "markdown",
      "source": [
        "Здесь я проверяю работу сети Хопфилда сразу на всех зашумлённых образах,\n",
        "которые были подготовлены ранее (цифры 0, 1, 5). Для каждого образа запускаю\n",
        "динамику обновлений и показываю результат через несколько итераций.\n"
      ],
      "metadata": {
        "id": "9cekNRa9muPi"
      }
    },
    {
      "cell_type": "code",
      "source": [
        "steps = 5  # число итераций обновления\n",
        "fig, axes = plt.subplots(len(classes), steps+1, figsize=(2*(steps+1), 2*len(classes)))\n",
        "\n",
        "for j, c in enumerate(classes):\n",
        "    x0 = noisy_vectors[:, j]\n",
        "    history = hopfield_recall(W, x0, steps=steps)\n",
        "    for t, vec in enumerate(history):\n",
        "        axes[j, t].imshow(vec.reshape(8,8), cmap=\"gray_r\")\n",
        "        if j == 0:\n",
        "            axes[j, t].set_title(f\"t={t}\")\n",
        "        if t == 0:\n",
        "            axes[j, t].set_ylabel(f\"Цифра {c}\")\n",
        "        axes[j, t].axis(\"off\")\n",
        "\n",
        "plt.suptitle(\"Восстановление всех зашумлённых цифр\")\n",
        "plt.tight_layout()\n",
        "plt.show()\n"
      ],
      "metadata": {
        "colab": {
          "base_uri": "https://localhost:8080/",
          "height": 610
        },
        "id": "gcnDTtV1mvr4",
        "outputId": "8cd32e98-bf3f-4c42-f919-28e86c8e1f17"
      },
      "execution_count": null,
      "outputs": [
        {
          "output_type": "display_data",
          "data": {
            "text/plain": [
              "<Figure size 1200x600 with 18 Axes>"
            ],
            "image/png": "[encoded data removed]"
          },
          "metadata": {}
        }
      ]
    },
    {
      "cell_type": "markdown",
      "source": [
        "Вывод по заданию 2.\n",
        "\n",
        "1) Была реализована и протестирована сеть Хопфилда для хранения и восстановления бинарных образов цифр.\n",
        "2) Обучение проводилось по правилу Хебба, в результате чего эталоны стали устойчивыми состояниями сети.\n",
        "3) При подаче на вход зашумлённых образов (с вероятностью инверсии пикселей p≈0.25) сеть успешно восстанавливала исходные цифры.\n",
        "4) На примерах видно, что динамика сходится: уже через 2–3 итерации зашумлённый образ становится близок к эталонному.\n",
        "5) Ограничения: при сильном уровне шума или большом числе одновременно запомненных образов возможны ошибки восстановления (появление искажённых состояний).\n",
        "Итог: сеть Хопфилда корректно реализована и продемонстрировала способность восстанавливать зашумлённые изображения цифр.\n"
      ],
      "metadata": {
        "id": "U18UFu1Cm3ZS"
      }
    },
    {
      "cell_type": "markdown",
      "source": [
        "Здание №3\n",
        "\n",
        "Задание 3. Восстановление (распознавание) цифр с помощью обучаемой нейронной сети.\n",
        "\n",
        "Цель: обучить многослойную нейронную сеть (MLP) распознавать изображения цифр\n",
        "из датасета MNIST и проверить её работу на тестовых данных.\n",
        "\n",
        "Задачи:\n",
        "1) Загрузить датасет MNIST (из keras.datasets).\n",
        "2) Подготовить данные: нормализация пикселей, преобразование изображений в векторы,\n",
        "   кодирование меток (one-hot encoding).\n",
        "3) Определить архитектуру модели (полносвязная сеть с одним или двумя скрытыми слоями).\n",
        "4) Обучить модель на обучающей выборке.\n",
        "5) Проверить точность на тестовой выборке.\n",
        "6) Визуализировать примеры предсказаний.\n"
      ],
      "metadata": {
        "id": "wk4BaDspoDDn"
      }
    },
    {
      "cell_type": "code",
      "source": [
        "import numpy as np\n",
        "import matplotlib.pyplot as plt\n",
        "from tensorflow.keras.datasets import mnist\n",
        "from tensorflow.keras.utils import to_categorical\n",
        "\n",
        "# 1. Загружаем MNIST (60k train + 10k test)\n",
        "(x_train, y_train), (x_test, y_test) = mnist.load_data()\n",
        "\n",
        "print(\"Размеры:\", x_train.shape, y_train.shape, x_test.shape, y_test.shape)\n",
        "\n",
        "# 2. Нормализация и векторизация\n",
        "x_train = x_train.reshape(-1, 28*28).astype(\"float32\") / 255.0\n",
        "x_test  = x_test.reshape(-1, 28*28).astype(\"float32\") / 255.0\n",
        "\n",
        "# 3. One-hot кодирование меток\n",
        "y_train_cat = to_categorical(y_train, 10)\n",
        "y_test_cat  = to_categorical(y_test, 10)\n",
        "\n",
        "print(\"Пример метки до:\", y_train[0], \"и после one-hot:\", y_train_cat[0])\n",
        "\n",
        "# Визуализация примеров цифр\n",
        "fig, axes = plt.subplots(1, 5, figsize=(10,2))\n",
        "for i in range(5):\n",
        "    axes[i].imshow(x_train[i].reshape(28,28), cmap=\"gray\")\n",
        "    axes[i].set_title(f\"Цифра: {y_train[i]}\")\n",
        "    axes[i].axis(\"off\")\n",
        "plt.show()\n"
      ],
      "metadata": {
        "colab": {
          "base_uri": "https://localhost:8080/",
          "height": 265
        },
        "id": "jpLIqvFcoFeU",
        "outputId": "59f1dbd8-5ec4-41ce-8637-8b16779de06a"
      },
      "execution_count": null,
      "outputs": [
        {
          "output_type": "stream",
          "name": "stdout",
          "text": [
            "Downloading data from https://storage.googleapis.com/tensorflow/tf-keras-datasets/mnist.npz\n",
            "\u001b[1m11490434/11490434\u001b[0m \u001b[32m━━━━━━━━━━━━━━━━━━━━\u001b[0m\u001b[37m\u001b[0m \u001b[1m0s\u001b[0m 0us/step\n",
            "Размеры: (60000, 28, 28) (60000,) (10000, 28, 28) (10000,)\n",
            "Пример метки до: 5 и после one-hot: [0. 0. 0. 0. 0. 1. 0. 0. 0. 0.]\n"
          ]
        },
        {
          "output_type": "display_data",
          "data": {
            "text/plain": [
              "<Figure size 1000x200 with 5 Axes>"
            ],
            "image/png": "[encoded data removed]"
          },
          "metadata": {}
        }
      ]
    },
    {
      "cell_type": "markdown",
      "source": [
        "Здесь я строю полносвязную нейросеть (MLP) для классификации цифр MNIST.\n",
        "Архитектура: вход 784 → Dense(256, ReLU) → Dense(128, ReLU) → Dense(10, softmax).\n",
        "Компиляция: оптимизатор Adam, функция потерь categorical_crossentropy, метрика accuracy.\n",
        "Обучение: 5–10 эпох, батч 128, с валидацией на тестовой выборке.\n",
        "Цель: получить точность ≈ 97–98%+ на тесте.\n"
      ],
      "metadata": {
        "id": "rlltIDT-oZad"
      }
    },
    {
      "cell_type": "code",
      "source": [
        "from tensorflow.keras.models import Sequential\n",
        "from tensorflow.keras.layers import Dense, Dropout\n",
        "from tensorflow.keras.optimizers import Adam\n",
        "\n",
        "# модель\n",
        "model = Sequential([\n",
        "    Dense(256, activation='relu', input_shape=(28*28,)),\n",
        "    Dropout(0.2),\n",
        "    Dense(128, activation='relu'),\n",
        "    Dropout(0.2),\n",
        "    Dense(10, activation='softmax')\n",
        "])\n",
        "\n",
        "model.compile(optimizer=Adam(1e-3),\n",
        "              loss='categorical_crossentropy',\n",
        "              metrics=['accuracy'])\n",
        "\n",
        "model.summary()\n",
        "\n",
        "# обучение\n",
        "history = model.fit(\n",
        "    x_train, y_train_cat,\n",
        "    epochs=8,            # при желании увеличьте до 12–15 для +точности\n",
        "    batch_size=128,\n",
        "    validation_data=(x_test, y_test_cat),\n",
        "    verbose=1\n",
        ")\n",
        "\n",
        "# оценка на тесте\n",
        "test_loss, test_acc = model.evaluate(x_test, y_test_cat, verbose=0)\n",
        "print(f\"Точность на тестовой выборке: {test_acc*100:.2f}%\")\n"
      ],
      "metadata": {
        "colab": {
          "base_uri": "https://localhost:8080/",
          "height": 662
        },
        "id": "mmwGOCHFoaMu",
        "outputId": "325cd581-353a-489c-bf9a-04930bf4d817"
      },
      "execution_count": null,
      "outputs": [
        {
          "output_type": "stream",
          "name": "stderr",
          "text": [
            "/usr/local/lib/python3.12/dist-packages/keras/src/layers/core/dense.py:93: UserWarning: Do not pass an `input_shape`/`input_dim` argument to a layer. When using Sequential models, prefer using an `Input(shape)` object as the first layer in the model instead.\n",
            "  super().__init__(activity_regularizer=activity_regularizer, **kwargs)\n"
          ]
        },
        {
          "output_type": "display_data",
          "data": {
            "text/plain": [
              "\u001b[1mModel: \"sequential\"\u001b[0m\n"
            ],
            "text/html": [
              "<pre style=\"white-space:pre;overflow-x:auto;line-height:normal;font-family:Menlo,'DejaVu Sans Mono',consolas,'Courier New',monospace\"><span style=\"font-weight: bold\">Model: \"sequential\"</span>\n",
              "</pre>\n"
            ]
          },
          "metadata": {}
        },
        {
          "output_type": "display_data",
          "data": {
            "text/plain": [
              "┏━━━━━━━━━━━━━━━━━━━━━━━━━━━━━━━━━┳━━━━━━━━━━━━━━━━━━━━━━━━┳━━━━━━━━━━━━━━━┓\n",
              "┃\u001b[1m \u001b[0m\u001b[1mLayer (type)                   \u001b[0m\u001b[1m \u001b[0m┃\u001b[1m \u001b[0m\u001b[1mOutput Shape          \u001b[0m\u001b[1m \u001b[0m┃\u001b[1m \u001b[0m\u001b[1m      Param #\u001b[0m\u001b[1m \u001b[0m┃\n",
              "┡━━━━━━━━━━━━━━━━━━━━━━━━━━━━━━━━━╇━━━━━━━━━━━━━━━━━━━━━━━━╇━━━━━━━━━━━━━━━┩\n",
              "│ dense (\u001b[38;5;33mDense\u001b[0m)                   │ (\u001b[38;5;45mNone\u001b[0m, \u001b[38;5;34m256\u001b[0m)            │       \u001b[38;5;34m200,960\u001b[0m │\n",
              "├─────────────────────────────────┼────────────────────────┼───────────────┤\n",
              "│ dropout (\u001b[38;5;33mDropout\u001b[0m)               │ (\u001b[38;5;45mNone\u001b[0m, \u001b[38;5;34m256\u001b[0m)            │             \u001b[38;5;34m0\u001b[0m │\n",
              "├─────────────────────────────────┼────────────────────────┼───────────────┤\n",
              "│ dense_1 (\u001b[38;5;33mDense\u001b[0m)                 │ (\u001b[38;5;45mNone\u001b[0m, \u001b[38;5;34m128\u001b[0m)            │        \u001b[38;5;34m32,896\u001b[0m │\n",
              "├─────────────────────────────────┼────────────────────────┼───────────────┤\n",
              "│ dropout_1 (\u001b[38;5;33mDropout\u001b[0m)             │ (\u001b[38;5;45mNone\u001b[0m, \u001b[38;5;34m128\u001b[0m)            │             \u001b[38;5;34m0\u001b[0m │\n",
              "├─────────────────────────────────┼────────────────────────┼───────────────┤\n",
              "│ dense_2 (\u001b[38;5;33mDense\u001b[0m)                 │ (\u001b[38;5;45mNone\u001b[0m, \u001b[38;5;34m10\u001b[0m)             │         \u001b[38;5;34m1,290\u001b[0m │\n",
              "└─────────────────────────────────┴────────────────────────┴───────────────┘\n"
            ],
            "text/html": [
              "<pre style=\"white-space:pre;overflow-x:auto;line-height:normal;font-family:Menlo,'DejaVu Sans Mono',consolas,'Courier New',monospace\">┏━━━━━━━━━━━━━━━━━━━━━━━━━━━━━━━━━┳━━━━━━━━━━━━━━━━━━━━━━━━┳━━━━━━━━━━━━━━━┓\n",
              "┃<span style=\"font-weight: bold\"> Layer (type)                    </span>┃<span style=\"font-weight: bold\"> Output Shape           </span>┃<span style=\"font-weight: bold\">       Param # </span>┃\n",
              "┡━━━━━━━━━━━━━━━━━━━━━━━━━━━━━━━━━╇━━━━━━━━━━━━━━━━━━━━━━━━╇━━━━━━━━━━━━━━━┩\n",
              "│ dense (<span style=\"color: #0087ff; text-decoration-color: #0087ff\">Dense</span>)                   │ (<span style=\"color: #00d7ff; text-decoration-color: #00d7ff\">None</span>, <span style=\"color: #00af00; text-decoration-color: #00af00\">256</span>)            │       <span style=\"color: #00af00; text-decoration-color: #00af00\">200,960</span> │\n",
              "├─────────────────────────────────┼────────────────────────┼───────────────┤\n",
              "│ dropout (<span style=\"color: #0087ff; text-decoration-color: #0087ff\">Dropout</span>)               │ (<span style=\"color: #00d7ff; text-decoration-color: #00d7ff\">None</span>, <span style=\"color: #00af00; text-decoration-color: #00af00\">256</span>)            │             <span style=\"color: #00af00; text-decoration-color: #00af00\">0</span> │\n",
              "├─────────────────────────────────┼────────────────────────┼───────────────┤\n",
              "│ dense_1 (<span style=\"color: #0087ff; text-decoration-color: #0087ff\">Dense</span>)                 │ (<span style=\"color: #00d7ff; text-decoration-color: #00d7ff\">None</span>, <span style=\"color: #00af00; text-decoration-color: #00af00\">128</span>)            │        <span style=\"color: #00af00; text-decoration-color: #00af00\">32,896</span> │\n",
              "├─────────────────────────────────┼────────────────────────┼───────────────┤\n",
              "│ dropout_1 (<span style=\"color: #0087ff; text-decoration-color: #0087ff\">Dropout</span>)             │ (<span style=\"color: #00d7ff; text-decoration-color: #00d7ff\">None</span>, <span style=\"color: #00af00; text-decoration-color: #00af00\">128</span>)            │             <span style=\"color: #00af00; text-decoration-color: #00af00\">0</span> │\n",
              "├─────────────────────────────────┼────────────────────────┼───────────────┤\n",
              "│ dense_2 (<span style=\"color: #0087ff; text-decoration-color: #0087ff\">Dense</span>)                 │ (<span style=\"color: #00d7ff; text-decoration-color: #00d7ff\">None</span>, <span style=\"color: #00af00; text-decoration-color: #00af00\">10</span>)             │         <span style=\"color: #00af00; text-decoration-color: #00af00\">1,290</span> │\n",
              "└─────────────────────────────────┴────────────────────────┴───────────────┘\n",
              "</pre>\n"
            ]
          },
          "metadata": {}
        },
        {
          "output_type": "display_data",
          "data": {
            "text/plain": [
              "\u001b[1m Total params: \u001b[0m\u001b[38;5;34m235,146\u001b[0m (918.54 KB)\n"
            ],
            "text/html": [
              "<pre style=\"white-space:pre;overflow-x:auto;line-height:normal;font-family:Menlo,'DejaVu Sans Mono',consolas,'Courier New',monospace\"><span style=\"font-weight: bold\"> Total params: </span><span style=\"color: #00af00; text-decoration-color: #00af00\">235,146</span> (918.54 KB)\n",
              "</pre>\n"
            ]
          },
          "metadata": {}
        },
        {
          "output_type": "display_data",
          "data": {
            "text/plain": [
              "\u001b[1m Trainable params: \u001b[0m\u001b[38;5;34m235,146\u001b[0m (918.54 KB)\n"
            ],
            "text/html": [
              "<pre style=\"white-space:pre;overflow-x:auto;line-height:normal;font-family:Menlo,'DejaVu Sans Mono',consolas,'Courier New',monospace\"><span style=\"font-weight: bold\"> Trainable params: </span><span style=\"color: #00af00; text-decoration-color: #00af00\">235,146</span> (918.54 KB)\n",
              "</pre>\n"
            ]
          },
          "metadata": {}
        },
        {
          "output_type": "display_data",
          "data": {
            "text/plain": [
              "\u001b[1m Non-trainable params: \u001b[0m\u001b[38;5;34m0\u001b[0m (0.00 B)\n"
            ],
            "text/html": [
              "<pre style=\"white-space:pre;overflow-x:auto;line-height:normal;font-family:Menlo,'DejaVu Sans Mono',consolas,'Courier New',monospace\"><span style=\"font-weight: bold\"> Non-trainable params: </span><span style=\"color: #00af00; text-decoration-color: #00af00\">0</span> (0.00 B)\n",
              "</pre>\n"
            ]
          },
          "metadata": {}
        },
        {
          "output_type": "stream",
          "name": "stdout",
          "text": [
            "Epoch 1/8\n",
            "\u001b[1m469/469\u001b[0m \u001b[32m━━━━━━━━━━━━━━━━━━━━\u001b[0m\u001b[37m\u001b[0m \u001b[1m7s\u001b[0m 10ms/step - accuracy: 0.8189 - loss: 0.5985 - val_accuracy: 0.9585 - val_loss: 0.1322\n",
            "Epoch 2/8\n",
            "\u001b[1m469/469\u001b[0m \u001b[32m━━━━━━━━━━━━━━━━━━━━\u001b[0m\u001b[37m\u001b[0m \u001b[1m5s\u001b[0m 10ms/step - accuracy: 0.9561 - loss: 0.1484 - val_accuracy: 0.9699 - val_loss: 0.0961\n",
            "Epoch 3/8\n",
            "\u001b[1m469/469\u001b[0m \u001b[32m━━━━━━━━━━━━━━━━━━━━\u001b[0m\u001b[37m\u001b[0m \u001b[1m6s\u001b[0m 12ms/step - accuracy: 0.9661 - loss: 0.1078 - val_accuracy: 0.9745 - val_loss: 0.0807\n",
            "Epoch 4/8\n",
            "\u001b[1m469/469\u001b[0m \u001b[32m━━━━━━━━━━━━━━━━━━━━\u001b[0m\u001b[37m\u001b[0m \u001b[1m4s\u001b[0m 9ms/step - accuracy: 0.9743 - loss: 0.0844 - val_accuracy: 0.9787 - val_loss: 0.0744\n",
            "Epoch 5/8\n",
            "\u001b[1m469/469\u001b[0m \u001b[32m━━━━━━━━━━━━━━━━━━━━\u001b[0m\u001b[37m\u001b[0m \u001b[1m5s\u001b[0m 11ms/step - accuracy: 0.9786 - loss: 0.0666 - val_accuracy: 0.9803 - val_loss: 0.0666\n",
            "Epoch 6/8\n",
            "\u001b[1m469/469\u001b[0m \u001b[32m━━━━━━━━━━━━━━━━━━━━\u001b[0m\u001b[37m\u001b[0m \u001b[1m5s\u001b[0m 10ms/step - accuracy: 0.9822 - loss: 0.0558 - val_accuracy: 0.9798 - val_loss: 0.0707\n",
            "Epoch 7/8\n",
            "\u001b[1m469/469\u001b[0m \u001b[32m━━━━━━━━━━━━━━━━━━━━\u001b[0m\u001b[37m\u001b[0m \u001b[1m5s\u001b[0m 9ms/step - accuracy: 0.9835 - loss: 0.0495 - val_accuracy: 0.9815 - val_loss: 0.0613\n",
            "Epoch 8/8\n",
            "\u001b[1m469/469\u001b[0m \u001b[32m━━━━━━━━━━━━━━━━━━━━\u001b[0m\u001b[37m\u001b[0m \u001b[1m7s\u001b[0m 12ms/step - accuracy: 0.9855 - loss: 0.0437 - val_accuracy: 0.9828 - val_loss: 0.0613\n",
            "Точность на тестовой выборке: 98.28%\n"
          ]
        }
      ]
    },
    {
      "cell_type": "markdown",
      "source": [
        "Задача шага: визуализировать процесс обучения (train/val accuracy и loss) и показать,\n",
        "как модель предсказывает цифры на отдельных примерах из тестовой выборки.\n",
        "\n",
        "Ожидаемый результат:\n",
        "1) Два графика: accuracy и loss по эпохам (для train и validation).\n",
        "2) Табличка/картинки с несколькими тестовыми примерами, их истинными метками\n",
        "   и предсказаниями модели с вероятностями.\n"
      ],
      "metadata": {
        "id": "klaFlDZlpWMV"
      }
    },
    {
      "cell_type": "code",
      "source": [
        "import matplotlib.pyplot as plt\n",
        "\n",
        "# Кривые accuracy\n",
        "plt.figure(figsize=(6,4))\n",
        "plt.plot(history.history['accuracy'], label='train acc')\n",
        "plt.plot(history.history['val_accuracy'], label='val acc')\n",
        "plt.xlabel('Epoch'); plt.ylabel('Accuracy'); plt.grid(True); plt.legend()\n",
        "plt.title('Кривые точности (accuracy)')\n",
        "plt.show()\n",
        "\n",
        "# Кривые loss\n",
        "plt.figure(figsize=(6,4))\n",
        "plt.plot(history.history['loss'], label='train loss')\n",
        "plt.plot(history.history['val_loss'], label='val loss')\n",
        "plt.xlabel('Epoch'); plt.ylabel('Loss'); plt.grid(True); plt.legend()\n",
        "plt.title('Кривые функции потерь (loss)')\n",
        "plt.show()\n"
      ],
      "metadata": {
        "colab": {
          "base_uri": "https://localhost:8080/",
          "height": 803
        },
        "id": "eWor12OppXai",
        "outputId": "d5f91699-ad2e-4b90-ffad-e4777fb44207"
      },
      "execution_count": null,
      "outputs": [
        {
          "output_type": "display_data",
          "data": {
            "text/plain": [
              "<Figure size 600x400 with 1 Axes>"
            ],
            "image/png": "[encoded data removed]"
          },
          "metadata": {}
        },
        {
          "output_type": "display_data",
          "data": {
            "text/plain": [
              "<Figure size 600x400 with 1 Axes>"
            ],
            "image/png": "[encoded data removed]"
          },
          "metadata": {}
        }
      ]
    },
    {
      "cell_type": "code",
      "source": [
        "import numpy as np\n",
        "\n",
        "# Выберем несколько случайных изображений из теста\n",
        "idx = np.random.choice(len(x_test), size=8, replace=False)\n",
        "samples = x_test[idx]\n",
        "true_labels = y_test[idx]\n",
        "\n",
        "# Предсказания\n",
        "proba = model.predict(samples, verbose=0)\n",
        "pred_labels = np.argmax(proba, axis=1)\n",
        "\n",
        "# Визуализация\n",
        "cols = 4\n",
        "rows = len(idx) // cols + int(len(idx) % cols > 0)\n",
        "plt.figure(figsize=(3.2*cols, 3.2*rows))\n",
        "for i, k in enumerate(idx):\n",
        "    plt.subplot(rows, cols, i+1)\n",
        "    plt.imshow(x_test[k].reshape(28,28), cmap='gray')\n",
        "    title = f\"Pred: {pred_labels[i]} (p={proba[i,pred_labels[i]]:.2f})\\nTrue: {true_labels[i]}\"\n",
        "    plt.title(title)\n",
        "    plt.axis('off')\n",
        "plt.suptitle('Примеры предсказаний модели (MNIST)')\n",
        "plt.tight_layout()\n",
        "plt.show()\n"
      ],
      "metadata": {
        "colab": {
          "base_uri": "https://localhost:8080/",
          "height": 649
        },
        "id": "ImL_WM0fpYvS",
        "outputId": "ad530557-404a-4ea5-cfe3-72dd907b9d70"
      },
      "execution_count": null,
      "outputs": [
        {
          "output_type": "display_data",
          "data": {
            "text/plain": [
              "<Figure size 1280x640 with 8 Axes>"
            ],
            "image/png": "[encoded data removed]"
          },
          "metadata": {}
        }
      ]
    },
    {
      "cell_type": "markdown",
      "source": [
        "• Python 3, библиотеки numpy, matplotlib для работы с данными и визуализацией.\n",
        "• TensorFlow/Keras — для построения, обучения и оценки нейронной сети.\n",
        "• Датасет MNIST (60 000 обучающих и 10 000 тестовых изображений цифр 0–9).\n"
      ],
      "metadata": {
        "id": "_Yhh34VrpuJ3"
      }
    },
    {
      "cell_type": "markdown",
      "source": [
        "В ходе выполнения задания 3 была реализована многослойная нейронная сеть (MLP)\n",
        "для распознавания рукописных цифр из датасета MNIST.\n",
        "\n",
        "Модель с архитектурой Dense(256) → Dense(128) → Dense(10, softmax), обученная\n",
        "с оптимизатором Adam и функцией потерь categorical_crossentropy, показала\n",
        "высокую точность на тестовой выборке: ~98–99%.\n",
        "\n",
        "По графикам видно, что сеть хорошо обучается и не переобучается\n",
        "(валидационная точность растёт вместе с обучающей).\n",
        "\n",
        "На примерах предсказаний видно, что сеть корректно классифицирует\n",
        "рукописные цифры даже при значительном разнообразии написания.\n"
      ],
      "metadata": {
        "id": "vD-fsvSDpvfd"
      }
    },
    {
      "cell_type": "markdown",
      "source": [
        "## Заключение по лабораторной работе\n",
        "\n",
        "В ходе выполнения лабораторной работы были рассмотрены три направления численного анализа и методов машинного обучения:  \n",
        "\n",
        "1. **Численные методы решения дифференциальных уравнений (Задание 1).**  \n",
        "   Реализованы и исследованы методы Эйлера и Рунге–Кутта 4-го порядка для решения задачи Коши.  \n",
        "   Проведён анализ зависимости ошибки от шага интегрирования. Подтверждены теоретические порядки сходимости:  \n",
        "   • Эйлер — линейная сходимость *O(h)*,  \n",
        "   • Рунге–Кутта — порядок *O(h^4)*.  \n",
        "   **Вывод:** метод Рунге–Кутта обеспечивает существенно более высокую точность при умеренном числе шагов.  \n",
        "\n",
        "2. **Сеть Хопфилда (Задание 2).**  \n",
        "   Реализована и обучена сеть Хопфилда по правилу Хебба для хранения и восстановления бинарных образов цифр.  \n",
        "   На примерах зашумлённых входов показано, что сеть корректно восстанавливает исходные цифры за 2–3 итерации.  \n",
        "   **Вывод:** сеть Хопфилда успешно реализует ассоциативную память, однако имеет ограничения по числу хранимых образов и уровню шума.  \n",
        "\n",
        "3. **Многослойная нейронная сеть (MLP) для распознавания цифр (Задание 3).**  \n",
        "   Построена и обучена полносвязная нейросеть на датасете MNIST.  \n",
        "   Архитектура: `Dense(256, ReLU) → Dense(128, ReLU) → Dense(10, softmax)`.  \n",
        "   **Результат:** точность распознавания на тестовой выборке составила ~98–99%.  \n",
        "   **Вывод:** модель показала высокую эффективность и устойчивость к разнообразию написания рукописных цифр.  \n",
        "\n",
        "---\n",
        "\n",
        "### Итоговый вывод\n",
        "Лабораторная работа позволила освоить разные подходы к численному решению и моделированию:  \n",
        "- классические численные методы для ОДУ,  \n",
        "- рекуррентные сети ассоциативной памяти (Хопфилда),  \n",
        "- обучаемые многослойные нейросети для классификации изображений.  \n",
        "\n",
        "Это демонстрирует переход от аналитических методов к современным нейросетевым алгоритмам, что расширяет возможности решения практических задач. ✅\n"
      ],
      "metadata": {
        "id": "44FQdjURp9er"
      }
    }
  ],
  "metadata": {
    "colab": {
      "name": "Добро пожаловать в Colab!",
      "toc_visible": true,
      "provenance": [],
      "include_colab_link": true
    },
    "kernelspec": {
      "display_name": "Python 3",
      "name": "python3"
    }
  },
  "nbformat": 4,
  "nbformat_minor": 0
}